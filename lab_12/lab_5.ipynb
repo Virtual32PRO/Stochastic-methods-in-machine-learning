{
 "cells": [
  {
   "cell_type": "markdown",
   "metadata": {},
   "source": [
    "## A Critical Look at Cuckoo Search\n",
    "\n",
    "This lab explores the common issue (powszechny problem) of seemingly (pozornie) new optimization algorithms that may not offer genuinely (naprawdę) novel ideas. We'll first examine the original Cuckoo Search paper and then critically analyze it (krytycznie zanalizujemy) using the paper \"An analysis of why cuckoo search does not bring any novel ideas to optimization.\" This exercise builds on our previous discussions of evolutionary algorithms like Differential Evolution and the  (pułapek) of poor research in fields like Neuroevolution, focusing here on the problem of redundant (powielania) concepts in optimization."
   ]
  },
  {
   "cell_type": "code",
   "execution_count": 2,
   "metadata": {},
   "outputs": [],
   "source": [
    "import numpy as np\n",
    "import matplotlib.pyplot as plt\n",
    "from matplotlib import animation #animacje\n",
    "from matplotlib.collections import PathCollection #kolekcje ścieżek\n",
    "from typing import Callable\n",
    "from dataclasses import dataclass\n",
    "from math import gamma #gamma - funkcja eulera"
   ]
  },
  {
   "cell_type": "markdown",
   "metadata": {},
   "source": [
    "### Optimization Problems\n",
    "\n",
    "This cell defines three common benchmark functions, Sphere, Rosenbrock, and Rastrigin, used to test optimization algorithms. We also used these functions earlier to evaluate Adam, Momentum, and CMA-ES."
   ]
  },
  {
   "cell_type": "code",
   "execution_count": 7,
   "metadata": {},
   "outputs": [],
   "source": [
    "def sphere(x: np.ndarray) -> float:\n",
    "    return float(np.sum(x**2))\n",
    "\n",
    "\n",
    "def rosenbrock(x: np.ndarray) -> float:\n",
    "    return float(np.sum(100.0 * (x[1:] - x[:-1] ** 2.0) ** 2.0 + (1.0 - x[:-1]) ** 2.0))\n",
    "\n",
    "\n",
    "def rastrigin(x: np.ndarray) -> float:\n",
    "    A: float = 10.0\n",
    "    return float(A * len(x) + np.sum(x**2 - A * np.cos(2 * np.pi * x)))\n",
    "\n",
    "BOUNDS = [(-5, 5), (-5, 5)]"
   ]
  },
  {
   "cell_type": "markdown",
   "metadata": {},
   "source": [
    "### Visualizing Search Dynamics"
   ]
  },
  {
   "cell_type": "code",
   "execution_count": 9,
   "metadata": {},
   "outputs": [],
   "source": [
    "def animate_cs(\n",
    "    func: Callable[[np.ndarray], float],\n",
    "    history: list[np.ndarray],\n",
    "    bounds: list[tuple[float, float]] = BOUNDS,\n",
    "    frames: int | None = None,\n",
    "    filename: str = \"cs_animation.gif\",\n",
    ") -> None:\n",
    "    \"\"\"\n",
    "    Creates and saves a GIF showing how the CS population moves over generations.\n",
    "    \"\"\"\n",
    "    if frames is None:\n",
    "        frames = len(history)\n",
    "\n",
    "    assert len(bounds) == 2, \"This function only supports 2D visualization (expected 2 bounds).\"\n",
    "    x_bounds = (bounds[0][0], bounds[0][1])\n",
    "    y_bounds = (bounds[1][0], bounds[1][1])\n",
    "\n",
    "    x = np.linspace(x_bounds[0], x_bounds[1], 200)\n",
    "    y = np.linspace(y_bounds[0], y_bounds[1], 200)\n",
    "    X, Y = np.meshgrid(x, y)\n",
    "    coords = np.vstack([X.ravel(), Y.ravel()]).T\n",
    "    Z = np.array([func(pt) for pt in coords]).reshape(X.shape)\n",
    "\n",
    "    fig, ax = plt.subplots(figsize=(8, 6))\n",
    "    contour = ax.contourf(X, Y, Z, levels=20, cmap=\"viridis\")\n",
    "    fig.colorbar(contour, ax=ax)\n",
    "    \n",
    "    def update(i: int):\n",
    "        # Remove any existing scatter plots (PathCollection instances)\n",
    "        for coll in ax.collections:\n",
    "            if isinstance(coll, PathCollection):\n",
    "                coll.remove()\n",
    "\n",
    "        ax.set_title(f\"Generation {i}\")\n",
    "\n",
    "        DECAY_CONSTANT = 10\n",
    "\n",
    "        # Plot all generations up to i, with alpha decreasing for older points\n",
    "        for j in range(i + 1):\n",
    "            age = i - j\n",
    "            alpha = float(np.exp(-age / DECAY_CONSTANT))\n",
    "            pop_j = history[j]\n",
    "            ax.scatter(pop_j[:, 0], pop_j[:, 1], s=24, color=\"red\", edgecolors=\"none\", alpha=alpha)\n",
    "\n",
    "        # Return an empty tuple since we're redrawing everything\n",
    "        return ()\n",
    "    \n",
    "    ax.set_xlim(x_bounds[0], x_bounds[1])\n",
    "    ax.set_ylim(y_bounds[0], y_bounds[1])\n",
    "    \n",
    "    anim = animation.FuncAnimation(\n",
    "        fig,\n",
    "        update,\n",
    "        frames=frames,\n",
    "        interval=200,\n",
    "        blit=False,  # must be False since we redraw each frame\n",
    "    )\n",
    "    \n",
    "    writer = animation.PillowWriter(fps=5)\n",
    "    anim.save(filename, writer=writer)\n",
    "    plt.close(fig)\n",
    "    print(f\"Animation saved to {filename}\")"
   ]
  },
  {
   "cell_type": "markdown",
   "metadata": {},
   "source": [
    "### Exercise 1\n",
    "\n",
    "Read [Cuckoo Search via Levy Flights](https://arxiv.org/pdf/1003.1594) with particular attention to Sections 2, 3, and 4. The primary focus (głównym punktem odniesienia) for this exercise is Figure 1, which outlines (naszkicowuje) the core pseudocode of the algorithm.\n",
    "\n",
    "Your task is to implement the Cuckoo Search algorithm, using Figure 1 as your main reference. As the pseudocode is relatively high-level and lacks \n",
    "implementation details, you are encouraged to adopt a straightforward approach in your implementation.\n",
    "\n",
    "**Action Item:** Document any ambiguities (niejasności or unclear aspects (nie jednoznaczności) you encounter (napotkasz) in the algorithm description or pseudocode.\n",
    "\n",
    "> Note: If you find the implementation too challenging or feel stuck, you may proceed directly to Exercise 2."
   ]
  },
  {
   "cell_type": "code",
   "execution_count": null,
   "metadata": {},
   "outputs": [],
   "source": [
    "@dataclass\n",
    "class CSResult:\n",
    "    best_vector: np.ndarray\n",
    "    best_value: float\n",
    "    history: list[np.ndarray]  # History of populations for animation\n",
    "\n",
    "\n",
    "class LevyFlight:\n",
    "    def __init__(self, beta: float = 1.5):\n",
    "        self.beta = beta\n",
    "\n",
    "    def __call__(self, size: int) -> np.ndarray:\n",
    "        sigma_u = (\n",
    "            gamma(1 + self.beta)\n",
    "            * np.sin(np.pi * self.beta / 2)\n",
    "            / (gamma((1 + self.beta) / 2) * self.beta * 2 ** ((self.beta - 1) / 2))\n",
    "        ) ** (1 / self.beta)\n",
    "        sigma_v = 1\n",
    "        u = np.random.normal(0, sigma_u, size)\n",
    "        v = np.random.normal(0, sigma_v, size)\n",
    "        step = u / np.abs(v) ** (1 / self.beta)\n",
    "        return step\n",
    "\n",
    "\n",
    "def cuckoo_search(\n",
    "    func: Callable[[np.ndarray], float],\n",
    "    bounds: list[tuple[float, float]] = BOUNDS,\n",
    "    pop_size: int = 50,\n",
    "    alpha: float = 1.0,\n",
    "    beta: float = 1.5,\n",
    "    p: float = 0.25,\n",
    "    max_gen: int = 100,\n",
    ") -> CSResult:\n",
    "    \"\"\"\n",
    "    Implements the Cuckoo Search algorithm for global optimization.\n",
    "\n",
    "    Parameters:\n",
    "        func: Objective function to minimize. Takes a numpy array and returns a float.\n",
    "        bounds: list of (min, max) pairs for each dimension.\n",
    "        pop_size: Number of individuals in the population.\n",
    "        alpha: Step-size scaling factor controlling the overall scale of the Lévy flights.\n",
    "        beta: Exponent parameter for the Lévy distribution (typically in (1, 3]) that\n",
    "            influences the heavy-tailed step-length distribution.\n",
    "        p: Probability (in [0, 1]) that a host bird discovers an alien egg and abandons\n",
    "            the corresponding nest—i.e., fraction of worse nests to be replaced each generation.\n",
    "        max_gen: Maximum number of generations to evolve.\n",
    "    \"\"\"\n",
    "   \n",
    "    dimensions = len(bounds)\n",
    "    lower_bounds = np.array([b[0] for b in bounds])\n",
    "    upper_bounds = np.array([b[1] for b in bounds])\n",
    "\n",
    "   \n",
    "    #initialize population\n",
    "    population = np.random.uniform(lower_bounds, upper_bounds, (pop_size, dimensions))\n",
    "    fitness = np.array([func(ind) for ind in population])\n",
    "\n",
    "    history = [population.copy()]\n",
    "\n",
    "    levy = LevyFlight(beta=beta)\n",
    "\n",
    "    for generation in range(max_gen):\n",
    "        #generate new solutions \n",
    "        for i in range(pop_size):\n",
    "            step = alpha * levy(dimensions)\n",
    "            cuckoo = population[i] + step\n",
    "\n",
    "            #boundaries \n",
    "            cuckoo = np.clip(cuckoo, lower_bounds, upper_bounds)\n",
    "            cuckoo_fitness = func(cuckoo)\n",
    "\n",
    "            # Select a random nest to potentially replace\n",
    "            j = np.random.randint(pop_size)\n",
    "            if cuckoo_fitness < fitness[j]:\n",
    "                population[j] = cuckoo\n",
    "                fitness[j] = cuckoo_fitness\n",
    "\n",
    "        # Abandon a fraction (p) of worse nests and create new ones\n",
    "        num_abandon = int(p * pop_size)\n",
    "        worst_indices = np.argsort(fitness)[-num_abandon:]\n",
    "        population[worst_indices] = np.random.uniform(lower_bounds, upper_bounds, (num_abandon, dimensions))\n",
    "        fitness[worst_indices] = np.array([func(ind) for ind in population[worst_indices]])\n",
    "\n",
    "        history.append(population.copy())\n",
    "\n",
    "    best_idx = np.argmin(fitness)\n",
    "    best_vector = population[best_idx]\n",
    "    best_value = fitness[best_idx]\n",
    "\n",
    "    return CSResult(best_vector, best_value, history)\n"
   ]
  },
  {
   "cell_type": "markdown",
   "metadata": {},
   "source": [
    "### Test implemented CS"
   ]
  },
  {
   "cell_type": "code",
   "execution_count": 5,
   "metadata": {},
   "outputs": [],
   "source": [
    "result = cuckoo_search(sphere, bounds=BOUNDS, pop_size=50)"
   ]
  },
  {
   "cell_type": "markdown",
   "metadata": {},
   "source": [
    "### Experiments\n",
    "\n",
    "Run CS on all three problems: Sphere, Rosenbrock and Rastrigin. For each problem:\n",
    "- Visualize the population dynamics over time to illustrate how the search space is explored and exploited."
   ]
  },
  {
   "cell_type": "code",
   "execution_count": 11,
   "metadata": {},
   "outputs": [
    {
     "name": "stdout",
     "output_type": "stream",
     "text": [
      "Animation saved to sphere_cs.gif\n",
      "Sphere -> Best Value: 0.00021495630203771708\n",
      "Animation saved to rosenbrock_cs.gif\n",
      "Rosenbrock -> Best Value: 0.007167840622376968\n",
      "Animation saved to rastrigin_cs.gif\n",
      "Rastrigin -> Best Value: 0.17355044625112725\n"
     ]
    }
   ],
   "source": [
    "functions = {\n",
    "    \"sphere\": sphere,\n",
    "    \"rosenbrock\": rosenbrock,\n",
    "    \"rastrigin\": rastrigin\n",
    "}\n",
    "\n",
    "\n",
    "\n",
    "for name, func in functions.items():\n",
    "    result = cuckoo_search(func, bounds=BOUNDS, pop_size=50)\n",
    "    animate_cs(func, result.history, bounds=BOUNDS, filename=f\"{name}_cs.gif\")\n",
    "    print(f\"{name.capitalize()} -> Best Value: {result.best_value}\")"
   ]
  },
  {
   "cell_type": "markdown",
   "metadata": {},
   "source": [
    "### Exercise 2\n",
    "\n",
    "Read [An analysis of why cuckoo search does not bring any novel ideas to optimization](https://www.sciencedirect.com/science/article/pii/S0305054822000442). Focus particularly on Sections 2 and 3. Section 2.3 provides a detailed description of the implemented Cuckoo Search algorithm. Carefully analyze and compare it with your own, highlighting any differences (różnice) in assumptions (założeniach), parameter settings, or algorithmic structure."
   ]
  },
  {
   "cell_type": "markdown",
   "metadata": {},
   "source": [
    "My implementation of Cuckoo Search:    \n",
    "- each individual is mutated using a Lévy flight    \n",
    "- a new solution replaces a random one if it is better    \n",
    "- some of the worst individuals are replaced by random solutions    \n",
    "  \n",
    "Algorithm version from the article:  \n",
    "- each individual is also mutated using a Lévy flight, but the best individuals are selected    \n",
    "- new solutions are generated by recombining two existing ones (inspired by Differential Evolution)    "
   ]
  },
  {
   "cell_type": "markdown",
   "metadata": {},
   "source": [
    "### Exercise 3\n",
    "\n",
    "Read the Introduction of “An analysis of why cuckoo search does not bring any novel ideas to optimization.” Identify and outline three  \n",
    "criteria proposed by the authors for evaluating the underlying metaphor (leżącej u podstaw metafory) of the algorithm. Critically reflect   \n",
    "(zastanów się) on these criteria, do you find them appropriate and sufficient (wystarczające)? Can you suggest any additional criteria or alternative   \n",
    "perspectives that might enrich (wzbogacić) the evaluation?  "
   ]
  },
  {
   "cell_type": "markdown",
   "metadata": {},
   "source": [
    "In the introduction to the article, the authors propose three criteria to evaluate the metaphor:\n",
    "- Usefulness. Does the metaphor bring useful concepts to solve\n",
    " optimization problems?\n",
    "-  Novelty. Were the concepts brought by the metaphor new in\n",
    " the field of stochastic optimization at the time when they were\n",
    " proposed?\n",
    "-  Sound motivation. Is there a sound motivation to use the\n",
    " metaphor?\n",
    "\n",
    "I think these criteria are appropriate, but I would suggest an additional one to enrich the evaluation.  \n",
    "A possible fourth criterion could be computational effectiveness – that is, whether the metaphor leads   \n",
    "to algorithms that are actually efficient in practice.  "
   ]
  },
  {
   "cell_type": "markdown",
   "metadata": {},
   "source": [
    "### Exercise 4\n",
    "\n",
    "Read Section 4 of “An analysis of why cuckoo search does not bring any novel ideas to optimization.” Explain the main criticisms they raise against the Cuckoo Search algorithm. What fundamental issues do they identify, and how do these undermine (podważają) the algorithm's novelty?"
   ]
  },
  {
   "cell_type": "markdown",
   "metadata": {},
   "source": [
    "\n",
    "No new ideas - Cuckoo Search reuses old techniques from evolution strategies like (μ + λ)-ES. It doesn’t bring anything truly new.  \n",
    "Uses parts from other algorithms - The algorithm borrows recombination from Differential Evolution and uses Lévy flights for mutation — both of which were already known.  \n",
    "Wrong order of operations - CS applies recombination at the end of each loop, not at the start like in standard evolutionary strategies. This wastes time and breaks the typical flow.\n",
    "\n"
   ]
  },
  {
   "cell_type": "markdown",
   "metadata": {},
   "source": [
    "### Exercise 5\n",
    "\n",
    "Analyze Figures 5 and 8 from [Large-scale Benchmarking of Metaphor-based Optimization Heuristics](https://arxiv.org/pdf/2402.09800). In these figures, Cuckoo Search is denoted as CS. Evaluate its performance relative to the CMA-ES variant (bipop) and Differential Evolution (DE). How does CS compare to these well-established algorithms in terms of optimization performance? Furthermore, critically consider whether performance alone is a sufficient criterion for evaluating optimization algorithms. What other factors should be taken into account?"
   ]
  },
  {
   "cell_type": "markdown",
   "metadata": {},
   "source": [
    "In Figures 5 and 8 of the paper Large-scale Benchmarking of Metaphor-based Optimization Heuristics, the Cuckoo Search (CS)   \n",
    "algorithm performs worse than well-known algorithms like CMA-ES (bipop) and Differential Evolution (DE).  \n",
    "\n",
    "CS sometimes gives good results, especially with small budgets and low dimensions, but usually loses to DE and CMA-ES.  \n",
    "\n",
    "The authors also say that performance is not the only thing that matters when evaluating algorithms. We should also think about  \n",
    "Practical usefulness, whether it fits the theory or metaphor it is based on."
   ]
  }
 ],
 "metadata": {
  "kernelspec": {
   "display_name": "Python 3",
   "language": "python",
   "name": "python3"
  },
  "language_info": {
   "codemirror_mode": {
    "name": "ipython",
    "version": 3
   },
   "file_extension": ".py",
   "mimetype": "text/x-python",
   "name": "python",
   "nbconvert_exporter": "python",
   "pygments_lexer": "ipython3",
   "version": "3.11.9"
  }
 },
 "nbformat": 4,
 "nbformat_minor": 2
}
